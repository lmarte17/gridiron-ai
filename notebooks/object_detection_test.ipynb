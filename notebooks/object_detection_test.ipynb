{
 "cells": [
  {
   "cell_type": "code",
   "execution_count": 3,
   "metadata": {},
   "outputs": [],
   "source": [
    "import sys\n",
    "import os\n",
    "sys.path.append(os.path.join(os.path.dirname(os.getcwd())))"
   ]
  },
  {
   "cell_type": "code",
   "execution_count": 1,
   "metadata": {},
   "outputs": [
    {
     "data": {
      "application/vnd.jupyter.widget-view+json": {
       "model_id": "af545d963b564478825157974233bac0",
       "version_major": 2,
       "version_minor": 0
      },
      "text/plain": [
       "best.pt:   0%|          | 0.00/52.0M [00:00<?, ?B/s]"
      ]
     },
     "metadata": {},
     "output_type": "display_data"
    }
   ],
   "source": [
    "# Use deployed HF model for inference\n",
    "\n",
    "from huggingface_hub import hf_hub_download\n",
    "from ultralytics import YOLO\n",
    "\n",
    "# Download the model from the Hugging Face Hub\n",
    "model_path = hf_hub_download(\n",
    "    repo_id=\"lmarte17/gridiron-ai-football-detector\",\n",
    "    filename=\"best.pt\",\n",
    "    cache_dir=\"../models\" \n",
    ")\n"
   ]
  },
  {
   "cell_type": "code",
   "execution_count": 2,
   "metadata": {},
   "outputs": [
    {
     "name": "stdout",
     "output_type": "stream",
     "text": [
      "\n",
      "image 1/1 /Users/lmarte/Documents/Projects/CU-Boulder/Deep_Learning/gridiron-ai/notebooks/../data/original/train/images/57558_002886_Sideline_frame204_jpg.rf.386300f508e1beea9a6034e14cb6fca8.jpg: 640x640 11 defenses, 5 olines, 1 qb, 1 ref, 1 running_back, 4 wide_receivers, 139.9ms\n",
      "Speed: 1.8ms preprocess, 139.9ms inference, 4.5ms postprocess per image at shape (1, 3, 640, 640)\n"
     ]
    }
   ],
   "source": [
    "# Load the model\n",
    "model = YOLO(model_path)\n",
    "\n",
    "# Run inference on train image\n",
    "results = model('../data/original/train/images/57558_002886_Sideline_frame204_jpg.rf.386300f508e1beea9a6034e14cb6fca8.jpg', conf=0.25)\n",
    "results[0].show()"
   ]
  },
  {
   "cell_type": "code",
   "execution_count": 3,
   "metadata": {},
   "outputs": [
    {
     "name": "stdout",
     "output_type": "stream",
     "text": [
      "\n",
      "image 1/1 /Users/lmarte/Documents/Projects/CU-Boulder/Deep_Learning/gridiron-ai/notebooks/youtube_screenshots/pass_0001_88.jpg: 384x640 11 defenses, 5 olines, 1 qb, 1 ref, 2 running_backs, 5 wide_receivers, 125.0ms\n",
      "Speed: 2.0ms preprocess, 125.0ms inference, 0.9ms postprocess per image at shape (1, 3, 384, 640)\n"
     ]
    }
   ],
   "source": [
    "# Test on screenshot\n",
    "results = model('youtube_screenshots/pass_0001_88.jpg', conf=0.25)\n",
    "results[0].show()"
   ]
  },
  {
   "cell_type": "code",
   "execution_count": 5,
   "metadata": {},
   "outputs": [
    {
     "name": "stdout",
     "output_type": "stream",
     "text": [
      "Detected 25 objects\n",
      "  Object 1: Class 4, Confidence: 0.84\n",
      "  Object 2: Class 0, Confidence: 0.84\n",
      "  Object 3: Class 0, Confidence: 0.83\n",
      "  Object 4: Class 1, Confidence: 0.81\n",
      "  Object 5: Class 0, Confidence: 0.80\n",
      "  Object 6: Class 0, Confidence: 0.79\n",
      "  Object 7: Class 6, Confidence: 0.78\n",
      "  Object 8: Class 0, Confidence: 0.76\n",
      "  Object 9: Class 6, Confidence: 0.75\n",
      "  Object 10: Class 6, Confidence: 0.73\n",
      "  Object 11: Class 0, Confidence: 0.73\n",
      "  Object 12: Class 0, Confidence: 0.73\n",
      "  Object 13: Class 0, Confidence: 0.71\n",
      "  Object 14: Class 1, Confidence: 0.63\n",
      "  Object 15: Class 0, Confidence: 0.61\n",
      "  Object 16: Class 1, Confidence: 0.60\n",
      "  Object 17: Class 0, Confidence: 0.59\n",
      "  Object 18: Class 6, Confidence: 0.56\n",
      "  Object 19: Class 0, Confidence: 0.53\n",
      "  Object 20: Class 2, Confidence: 0.47\n",
      "  Object 21: Class 3, Confidence: 0.46\n",
      "  Object 22: Class 1, Confidence: 0.42\n",
      "  Object 23: Class 1, Confidence: 0.40\n",
      "  Object 24: Class 4, Confidence: 0.32\n",
      "  Object 25: Class 6, Confidence: 0.28\n"
     ]
    }
   ],
   "source": [
    "boxes = results[0].boxes\n",
    "if boxes is not None:\n",
    "        print(f\"Detected {len(boxes)} objects\")\n",
    "        for i, box in enumerate(boxes):\n",
    "            conf = box.conf[0]\n",
    "            cls = int(box.cls[0])\n",
    "            print(f\"  Object {i+1}: Class {cls}, Confidence: {conf:.2f}\")"
   ]
  }
 ],
 "metadata": {
  "kernelspec": {
   "display_name": "venv",
   "language": "python",
   "name": "python3"
  },
  "language_info": {
   "codemirror_mode": {
    "name": "ipython",
    "version": 3
   },
   "file_extension": ".py",
   "mimetype": "text/x-python",
   "name": "python",
   "nbconvert_exporter": "python",
   "pygments_lexer": "ipython3",
   "version": "3.12.9"
  }
 },
 "nbformat": 4,
 "nbformat_minor": 2
}
